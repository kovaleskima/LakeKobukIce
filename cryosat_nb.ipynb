{
 "cells": [
  {
   "cell_type": "code",
   "execution_count": null,
   "metadata": {},
   "outputs": [
    {
     "name": "stdout",
     "output_type": "stream",
     "text": [
      "Granules found: 234\n",
      " Getting 5 granules, approx download size: 0.02 GB\n"
     ]
    },
    {
     "data": {
      "application/vnd.jupyter.widget-view+json": {
       "model_id": "3ed4c11c4266424da66c542fb927d4b0",
       "version_major": 2,
       "version_minor": 0
      },
      "text/plain": [
       "QUEUEING TASKS | :   0%|          | 0/5 [00:00<?, ?it/s]"
      ]
     },
     "metadata": {},
     "output_type": "display_data"
    },
    {
     "data": {
      "application/vnd.jupyter.widget-view+json": {
       "model_id": "a2433ecd49a74f329111e17304037c04",
       "version_major": 2,
       "version_minor": 0
      },
      "text/plain": [
       "PROCESSING TASKS | :   0%|          | 0/5 [00:00<?, ?it/s]"
      ]
     },
     "metadata": {},
     "output_type": "display_data"
    },
    {
     "data": {
      "application/vnd.jupyter.widget-view+json": {
       "model_id": "fe5744bdf8374f869b7befdaf9478f8f",
       "version_major": 2,
       "version_minor": 0
      },
      "text/plain": [
       "COLLECTING RESULTS | :   0%|          | 0/5 [00:00<?, ?it/s]"
      ]
     },
     "metadata": {},
     "output_type": "display_data"
    }
   ],
   "source": [
    "import earthaccess   \n",
    "import numpy as np  \n",
    "import matplotlib.pyplot as plt  \n",
    "import os\n",
    "from netCDF4 import Dataset\n",
    "import geopandas as gpd\n",
    "import cmocean\n",
    "\n",
    "#Authenticate\n",
    "earthaccess.login()\n",
    "\n",
    "#Searching for Cryosat2 Sea Ice Thickness Data for 2024\n",
    "#Returns a list of DataGranule objects\n",
    "search_results = earthaccess.search_data(\n",
    "    short_name=\"RDEFT4\",\n",
    "    bounding_box=(-163.5, 66.4, -161.1, 67.1), #Zoom in around Kotzebue sound\n",
    "    temporal=(\"2023-09-01\", \"2024-05-31\"),\n",
    ")\n",
    "\n",
    "#Returns a list of downloaded files\n",
    "raw_files = earthaccess.download(search_results[0:5], local_path='data/')"
   ]
  },
  {
   "cell_type": "code",
   "execution_count": 2,
   "metadata": {},
   "outputs": [
    {
     "name": "stdout",
     "output_type": "stream",
     "text": [
      "<class 'netCDF4.Dataset'>\n",
      "root group (NETCDF3_CLASSIC data model, file format NETCDF3):\n",
      "    Title: NASA GSFC CryoSat-2 sea ice thickness and ancillary data\n",
      "    Abstract: This data set contains monthly averaged Arctic sea ice thickness estimates and ancillary data. The primary data set used in the production of these data come from the ESA CryoSat-2 satellite. Sea ice freeboard is determined from CryoSat-2 using the method described in the Reference section below. In brief, this method uses a physical model to determine the best fit to each CryoSat-2 waveform.The fitted waveform is used to determine the retracking correction and also allows determination of the surface roughness within the footprint. For sea ice floes, the dominant backscattering layer is taken to be from the sea ice surface and thus sea ice freeboard is here defined as the height of the ice layer above the local sea surface. The DTU10 MSS is subtracted from each elevation measurement and the elevations from leads and sea ice floes are placed onto a 25 km polar stereographic grid. Sea ice freeboard is then determined by subtracting the gridded sea surface elevation from the gridded sea ice floe elevation. Snow depth is constructed from a modified Warren climatology of snow depth on sea ice. Sea ice thickness is retrieved assuming hydrostatic balance and nominal densities of snow, ice, and water. Retrievals are only done when the sea ice concentration is at least 70%. Sea ice concentration is from the near real time DMSP SSMI_S daily polar gridded data set with the pole hole set to a constant value of 100%.\n",
      "    Projection: CryoSat-2 elevation data have a nominal footprint size of 380 m x 1,650 m and are referenced to the WGS-84 ellipsoid. The derived CryoSat-2 freeboard data, and all ancillary data, have been gridded to the 25 km polar stereographic SSM/I grid. The center latitude and longitude for each grid point are provided with the data.\n",
      "    Start_date: 20230915\n",
      "    Start_time: 000305\n",
      "    End_date: 20230929\n",
      "    End_time: 235838\n",
      "    Institution: NASA Goddard Space Flight Center\n",
      "    PI_name: For questions related to this data set please contact the PI: Nathan Kurtz, nathan.t.kurtz@nasa.gov\n",
      "    References: A description of the primary methodology used in the retrieval of sea ice freeboard and thickness from CryoSat-2 data can be found at: http://www.the-cryosphere.net/8/1217/2014/tc-8-1217-2014.html\n",
      "    dimensions(sizes): x(304), y(448)\n",
      "    variables(dimensions): float32 sea_ice_thickness(y, x), float32 snow_depth(y, x), float32 snow_density(y, x), float32 lat(y, x), float32 lon(y, x), float32 freeboard(y, x), float32 roughness(y, x), float32 ice_con(y, x)\n",
      "    groups: \n",
      "<class 'netCDF4.Dataset'>\n",
      "root group (NETCDF3_CLASSIC data model, file format NETCDF3):\n",
      "    Title: NASA GSFC CryoSat-2 sea ice thickness and ancillary data\n",
      "    Abstract: This data set contains monthly averaged Arctic sea ice thickness estimates and ancillary data. The primary data set used in the production of these data come from the ESA CryoSat-2 satellite. Sea ice freeboard is determined from CryoSat-2 using the method described in the Reference section below. In brief, this method uses a physical model to determine the best fit to each CryoSat-2 waveform.The fitted waveform is used to determine the retracking correction and also allows determination of the surface roughness within the footprint. For sea ice floes, the dominant backscattering layer is taken to be from the sea ice surface and thus sea ice freeboard is here defined as the height of the ice layer above the local sea surface. The DTU10 MSS is subtracted from each elevation measurement and the elevations from leads and sea ice floes are placed onto a 25 km polar stereographic grid. Sea ice freeboard is then determined by subtracting the gridded sea surface elevation from the gridded sea ice floe elevation. Snow depth is constructed from a modified Warren climatology of snow depth on sea ice. Sea ice thickness is retrieved assuming hydrostatic balance and nominal densities of snow, ice, and water. Retrievals are only done when the sea ice concentration is at least 70%. Sea ice concentration is from the near real time DMSP SSMI_S daily polar gridded data set with the pole hole set to a constant value of 100%.\n",
      "    Projection: CryoSat-2 elevation data have a nominal footprint size of 380 m x 1,650 m and are referenced to the WGS-84 ellipsoid. The derived CryoSat-2 freeboard data, and all ancillary data, have been gridded to the 25 km polar stereographic SSM/I grid. The center latitude and longitude for each grid point are provided with the data.\n",
      "    Start_date: 20230915\n",
      "    Start_time: 000305\n",
      "    End_date: 20230929\n",
      "    End_time: 235838\n",
      "    Institution: NASA Goddard Space Flight Center\n",
      "    PI_name: For questions related to this data set please contact the PI: Nathan Kurtz, nathan.t.kurtz@nasa.gov\n",
      "    References: A description of the primary methodology used in the retrieval of sea ice freeboard and thickness from CryoSat-2 data can be found at: http://www.the-cryosphere.net/8/1217/2014/tc-8-1217-2014.html\n",
      "    dimensions(sizes): x(304), y(448)\n",
      "    variables(dimensions): float32 sea_ice_thickness(y, x), float32 snow_depth(y, x), float32 snow_density(y, x), float32 lat(y, x), float32 lon(y, x), float32 freeboard(y, x), float32 roughness(y, x), float32 ice_con(y, x)\n",
      "    groups: \n",
      "<class 'netCDF4.Dataset'>\n",
      "root group (NETCDF3_CLASSIC data model, file format NETCDF3):\n",
      "    Title: NASA GSFC CryoSat-2 sea ice thickness and ancillary data\n",
      "    Abstract: This data set contains monthly averaged Arctic sea ice thickness estimates and ancillary data. The primary data set used in the production of these data come from the ESA CryoSat-2 satellite. Sea ice freeboard is determined from CryoSat-2 using the method described in the Reference section below. In brief, this method uses a physical model to determine the best fit to each CryoSat-2 waveform.The fitted waveform is used to determine the retracking correction and also allows determination of the surface roughness within the footprint. For sea ice floes, the dominant backscattering layer is taken to be from the sea ice surface and thus sea ice freeboard is here defined as the height of the ice layer above the local sea surface. The DTU10 MSS is subtracted from each elevation measurement and the elevations from leads and sea ice floes are placed onto a 25 km polar stereographic grid. Sea ice freeboard is then determined by subtracting the gridded sea surface elevation from the gridded sea ice floe elevation. Snow depth is constructed from a modified Warren climatology of snow depth on sea ice. Sea ice thickness is retrieved assuming hydrostatic balance and nominal densities of snow, ice, and water. Retrievals are only done when the sea ice concentration is at least 70%. Sea ice concentration is from the near real time DMSP SSMI_S daily polar gridded data set with the pole hole set to a constant value of 100%.\n",
      "    Projection: CryoSat-2 elevation data have a nominal footprint size of 380 m x 1,650 m and are referenced to the WGS-84 ellipsoid. The derived CryoSat-2 freeboard data, and all ancillary data, have been gridded to the 25 km polar stereographic SSM/I grid. The center latitude and longitude for each grid point are provided with the data.\n",
      "    Start_date: 20230915\n",
      "    Start_time: 000305\n",
      "    End_date: 20230929\n",
      "    End_time: 235838\n",
      "    Institution: NASA Goddard Space Flight Center\n",
      "    PI_name: For questions related to this data set please contact the PI: Nathan Kurtz, nathan.t.kurtz@nasa.gov\n",
      "    References: A description of the primary methodology used in the retrieval of sea ice freeboard and thickness from CryoSat-2 data can be found at: http://www.the-cryosphere.net/8/1217/2014/tc-8-1217-2014.html\n",
      "    dimensions(sizes): x(304), y(448)\n",
      "    variables(dimensions): float32 sea_ice_thickness(y, x), float32 snow_depth(y, x), float32 snow_density(y, x), float32 lat(y, x), float32 lon(y, x), float32 freeboard(y, x), float32 roughness(y, x), float32 ice_con(y, x)\n",
      "    groups: \n",
      "<class 'netCDF4.Dataset'>\n",
      "root group (NETCDF3_CLASSIC data model, file format NETCDF3):\n",
      "    Title: NASA GSFC CryoSat-2 sea ice thickness and ancillary data\n",
      "    Abstract: This data set contains monthly averaged Arctic sea ice thickness estimates and ancillary data. The primary data set used in the production of these data come from the ESA CryoSat-2 satellite. Sea ice freeboard is determined from CryoSat-2 using the method described in the Reference section below. In brief, this method uses a physical model to determine the best fit to each CryoSat-2 waveform.The fitted waveform is used to determine the retracking correction and also allows determination of the surface roughness within the footprint. For sea ice floes, the dominant backscattering layer is taken to be from the sea ice surface and thus sea ice freeboard is here defined as the height of the ice layer above the local sea surface. The DTU10 MSS is subtracted from each elevation measurement and the elevations from leads and sea ice floes are placed onto a 25 km polar stereographic grid. Sea ice freeboard is then determined by subtracting the gridded sea surface elevation from the gridded sea ice floe elevation. Snow depth is constructed from a modified Warren climatology of snow depth on sea ice. Sea ice thickness is retrieved assuming hydrostatic balance and nominal densities of snow, ice, and water. Retrievals are only done when the sea ice concentration is at least 70%. Sea ice concentration is from the near real time DMSP SSMI_S daily polar gridded data set with the pole hole set to a constant value of 100%.\n",
      "    Projection: CryoSat-2 elevation data have a nominal footprint size of 380 m x 1,650 m and are referenced to the WGS-84 ellipsoid. The derived CryoSat-2 freeboard data, and all ancillary data, have been gridded to the 25 km polar stereographic SSM/I grid. The center latitude and longitude for each grid point are provided with the data.\n",
      "    Start_date: 20230915\n",
      "    Start_time: 000305\n",
      "    End_date: 20230929\n",
      "    End_time: 235838\n",
      "    Institution: NASA Goddard Space Flight Center\n",
      "    PI_name: For questions related to this data set please contact the PI: Nathan Kurtz, nathan.t.kurtz@nasa.gov\n",
      "    References: A description of the primary methodology used in the retrieval of sea ice freeboard and thickness from CryoSat-2 data can be found at: http://www.the-cryosphere.net/8/1217/2014/tc-8-1217-2014.html\n",
      "    dimensions(sizes): x(304), y(448)\n",
      "    variables(dimensions): float32 sea_ice_thickness(y, x), float32 snow_depth(y, x), float32 snow_density(y, x), float32 lat(y, x), float32 lon(y, x), float32 freeboard(y, x), float32 roughness(y, x), float32 ice_con(y, x)\n",
      "    groups: \n",
      "<class 'netCDF4.Dataset'>\n",
      "root group (NETCDF3_CLASSIC data model, file format NETCDF3):\n",
      "    Title: NASA GSFC CryoSat-2 sea ice thickness and ancillary data\n",
      "    Abstract: This data set contains monthly averaged Arctic sea ice thickness estimates and ancillary data. The primary data set used in the production of these data come from the ESA CryoSat-2 satellite. Sea ice freeboard is determined from CryoSat-2 using the method described in the Reference section below. In brief, this method uses a physical model to determine the best fit to each CryoSat-2 waveform.The fitted waveform is used to determine the retracking correction and also allows determination of the surface roughness within the footprint. For sea ice floes, the dominant backscattering layer is taken to be from the sea ice surface and thus sea ice freeboard is here defined as the height of the ice layer above the local sea surface. The DTU10 MSS is subtracted from each elevation measurement and the elevations from leads and sea ice floes are placed onto a 25 km polar stereographic grid. Sea ice freeboard is then determined by subtracting the gridded sea surface elevation from the gridded sea ice floe elevation. Snow depth is constructed from a modified Warren climatology of snow depth on sea ice. Sea ice thickness is retrieved assuming hydrostatic balance and nominal densities of snow, ice, and water. Retrievals are only done when the sea ice concentration is at least 70%. Sea ice concentration is from the near real time DMSP SSMI_S daily polar gridded data set with the pole hole set to a constant value of 100%.\n",
      "    Projection: CryoSat-2 elevation data have a nominal footprint size of 380 m x 1,650 m and are referenced to the WGS-84 ellipsoid. The derived CryoSat-2 freeboard data, and all ancillary data, have been gridded to the 25 km polar stereographic SSM/I grid. The center latitude and longitude for each grid point are provided with the data.\n",
      "    Start_date: 20230915\n",
      "    Start_time: 000305\n",
      "    End_date: 20230929\n",
      "    End_time: 235838\n",
      "    Institution: NASA Goddard Space Flight Center\n",
      "    PI_name: For questions related to this data set please contact the PI: Nathan Kurtz, nathan.t.kurtz@nasa.gov\n",
      "    References: A description of the primary methodology used in the retrieval of sea ice freeboard and thickness from CryoSat-2 data can be found at: http://www.the-cryosphere.net/8/1217/2014/tc-8-1217-2014.html\n",
      "    dimensions(sizes): x(304), y(448)\n",
      "    variables(dimensions): float32 sea_ice_thickness(y, x), float32 snow_depth(y, x), float32 snow_density(y, x), float32 lat(y, x), float32 lon(y, x), float32 freeboard(y, x), float32 roughness(y, x), float32 ice_con(y, x)\n",
      "    groups: \n",
      "(680960,)\n",
      "(680960, 2)\n"
     ]
    }
   ],
   "source": [
    "#Unpack netCDF files so that we can extract the features we want\n",
    "data_list = []\n",
    "for file in os.listdir('data/'):\n",
    "    file_path = os.path.join('data', file)\n",
    "    data_list.append(Dataset(file_path))\n",
    "    print(data_list[0])\n",
    "\n",
    "thickness_list = []\n",
    "coords_list = []\n",
    "for d in range(len(data_list)):\n",
    "    thickness_list.append(data_list[d].variables['sea_ice_thickness'][:,:].flatten().T)\n",
    "    coords_list_entry = (data_list[d].variables['lat'][:,:].flatten().T,\n",
    "                  data_list[d].variables['lon'][:,:].flatten().T)\n",
    "    coords_list.append(np.vstack(coords_list_entry).T)\n",
    "\n",
    "ice_thickness = np.hstack(thickness_list)\n",
    "coords = np.vstack(coords_list)\n",
    "\n",
    "print(ice_thickness.shape)\n",
    "print(coords.shape)\n",
    "\n",
    "df_actual = gpd.GeoDataFrame({\"thickness\": ice_thickness, \"geometry\": gpd.points_from_xy(coords[:,1], coords[:,0])})"
   ]
  },
  {
   "cell_type": "code",
   "execution_count": 9,
   "metadata": {},
   "outputs": [
    {
     "data": {
      "image/png": "[encoded data removed]",
      "text/plain": [
       "<Figure size 720x576 with 2 Axes>"
      ]
     },
     "metadata": {
      "needs_background": "light"
     },
     "output_type": "display_data"
    }
   ],
   "source": [
    "fig, ax = plt.subplots(figsize=(10, 8))\n",
    "\n",
    "x_min, x_max = -164, -161\n",
    "y_min, y_max = 66, 68\n",
    "zoom_x = 0.9  \n",
    "zoom_y = 0.8\n",
    "\n",
    "x_range = (x_max - x_min) * (1 - zoom_x) / 2\n",
    "y_range = (y_max - y_min) * (1 - zoom_y) / 2\n",
    "\n",
    "# Plot\n",
    "im1 = df_actual.plot(column=\"thickness\", cmap=cmocean.cm.matter, markersize=10, alpha=0.7, legend=False, ax=ax)\n",
    "ax.set_title(\"Ground Truth Ice Thickness\")\n",
    "ax.set_xlabel(\"Longitude\")\n",
    "ax.set_ylabel(\"Latitude\")\n",
    "ax.set_xlim(x_min + x_range, x_max - x_range)\n",
    "ax.set_ylim(y_min + y_range, y_max - y_range)\n",
    "\n",
    "# Colorbar\n",
    "sm = plt.cm.ScalarMappable(cmap=cmocean.cm.matter)\n",
    "cbar = fig.colorbar(sm, ax=ax, orientation=\"vertical\", fraction=0.02, pad=0.02)\n",
    "cbar.set_label(\"Sea Ice Thickness (m)\")\n",
    "\n",
    "plt.show()"
   ]
  }
 ],
 "metadata": {
  "kernelspec": {
   "display_name": "math_env",
   "language": "python",
   "name": "python3"
  },
  "language_info": {
   "codemirror_mode": {
    "name": "ipython",
    "version": 3
   },
   "file_extension": ".py",
   "mimetype": "text/x-python",
   "name": "python",
   "nbconvert_exporter": "python",
   "pygments_lexer": "ipython3",
   "version": "3.8.16"
  }
 },
 "nbformat": 4,
 "nbformat_minor": 2
}
